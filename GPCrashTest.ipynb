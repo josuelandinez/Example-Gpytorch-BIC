{
 "cells": [
  {
   "cell_type": "markdown",
   "metadata": {},
   "source": [
    "# Test Example"
   ]
  },
  {
   "cell_type": "code",
   "execution_count": 1,
   "metadata": {},
   "outputs": [],
   "source": [
    "import numpy as np\n",
    "import math\n",
    "import matplotlib.pyplot as plt\n",
    "plt.rc(\"savefig\", dpi=300)\n",
    "plt.rcParams['figure.figsize'] = [10, 10]\n",
    "import torch\n",
    "import gpytorch\n"
   ]
  },
  {
   "cell_type": "code",
   "execution_count": 2,
   "metadata": {},
   "outputs": [],
   "source": [
    "#define GP modified from gpytorch example\n",
    "\n",
    "class ExactGPModel(gpytorch.models.ExactGP):\n",
    "    def __init__(self, train_x, train_y, likelihood, kernel):\n",
    "        super(ExactGPModel, self).__init__(train_x, train_y, likelihood)\n",
    "        self.mean_module = gpytorch.means.ConstantMean()\n",
    "        self.covar_module = kernel\n",
    "        \n",
    "    def forward(self, x):\n",
    "        mean_x = self.mean_module(x)\n",
    "        covar_x=self.covar_module(x);\n",
    "        \n",
    "        return gpytorch.distributions.MultivariateNormal(mean_x, covar_x)\n"
   ]
  },
  {
   "cell_type": "code",
   "execution_count": 3,
   "metadata": {},
   "outputs": [
    {
     "name": "stdout",
     "output_type": "stream",
     "text": [
      "('likelihood.noise_covar.raw_noise', Parameter containing:\n",
      "tensor([0.], requires_grad=True))\n",
      "('mean_module.constant', Parameter containing:\n",
      "tensor([0.], requires_grad=True))\n",
      "('covar_module.kernels.0.kernels.0.raw_outputscale', Parameter containing:\n",
      "tensor(0., requires_grad=True))\n",
      "('covar_module.kernels.0.kernels.0.base_kernel.raw_lengthscale', Parameter containing:\n",
      "tensor([[0.]], requires_grad=True))\n",
      "('covar_module.kernels.0.kernels.1.raw_outputscale', Parameter containing:\n",
      "tensor(0., requires_grad=True))\n",
      "('covar_module.kernels.0.kernels.1.base_kernel.raw_lengthscale', Parameter containing:\n",
      "tensor([[0.]], requires_grad=True))\n",
      "\n",
      "\n",
      "Parameter containing:\n",
      "tensor([0.], requires_grad=True) has size [1] shape tensor (1,) the sum 1 the product 1\n",
      "number of parameters ... 1\n",
      "Parameter containing:\n",
      "tensor([0.], requires_grad=True) has size [1] shape tensor (1,) the sum 1 the product 1\n",
      "number of parameters ... 2\n",
      "Parameter containing:\n",
      "tensor(0., requires_grad=True) has size [] shape tensor (0,) the sum 0 the product 1\n",
      "number of parameters ... 3\n",
      "Parameter containing:\n",
      "tensor([[0.]], requires_grad=True) has size [1 1] shape tensor (2,) the sum 2 the product 1\n",
      "number of parameters ... 4\n",
      "Parameter containing:\n",
      "tensor(0., requires_grad=True) has size [] shape tensor (0,) the sum 0 the product 1\n",
      "number of parameters ... 5\n",
      "Parameter containing:\n",
      "tensor([[0.]], requires_grad=True) has size [1 1] shape tensor (2,) the sum 2 the product 1\n",
      "number of parameters ... 6\n",
      "number of parameters 6\n"
     ]
    }
   ],
   "source": [
    "# set training data\n",
    "# Training data is 100 points in [0,1] inclusive regularly spaced\n",
    "train_x = torch.linspace(0, 1, 100)\n",
    "# True function is sin(2*pi*x) with Gaussian noise\n",
    "train_y = torch.sin(train_x * (2 * math.pi)) + torch.randn(train_x.size()) * math.sqrt(0.04)\n",
    "\n",
    "#kernel model\n",
    "K1=gpytorch.kernels.AdditiveKernel(gpytorch.kernels.ScaleKernel(gpytorch.kernels.MaternKernel())+gpytorch.kernels.ScaleKernel(gpytorch.kernels.RBFKernel()))\n",
    "\n",
    "\n",
    "# initialize likelihood and model\n",
    "likelihood = gpytorch.likelihoods.GaussianLikelihood()\n",
    "model = ExactGPModel(train_x, train_y, likelihood,K1)\n",
    "\n",
    "\n",
    "#get number of parameters to optimize\n",
    "for i in list(model.named_parameters()):\n",
    "    print(i)\n",
    "print(\"\\n\")\n",
    "\n",
    "\n",
    "number=0\n",
    "for i in list(model.parameters()):\n",
    "    if i.requires_grad:\n",
    "        a=np.array([],dtype=np.int32);\n",
    "        for j in range(len(i.size())):\n",
    "            a=np.hstack((a,i.size(j)));\n",
    "        print(i,\"has size\",a, \"shape tensor\",a.shape,\"the sum\",a.sum(axis=0),\"the product\",a.prod(axis=0))\n",
    "        number+=a.prod(axis=0);\n",
    "        print(\"number of parameters ...\",number)\n",
    "print(\"number of parameters\",number)\n",
    "\n"
   ]
  },
  {
   "cell_type": "code",
   "execution_count": 4,
   "metadata": {},
   "outputs": [
    {
     "name": "stdout",
     "output_type": "stream",
     "text": [
      "Iter 1/100 - Loss: 14.714   noise: 0.693\n",
      "Iter 2/100 - Loss: 14.676   noise: 0.644\n",
      "Iter 3/100 - Loss: 14.636   noise: 0.598\n",
      "Iter 4/100 - Loss: 14.595   noise: 0.554\n",
      "Iter 5/100 - Loss: 14.553   noise: 0.513\n",
      "Iter 6/100 - Loss: 14.513   noise: 0.474\n",
      "Iter 7/100 - Loss: 14.474   noise: 0.437\n",
      "Iter 8/100 - Loss: 14.437   noise: 0.402\n",
      "Iter 9/100 - Loss: 14.400   noise: 0.370\n",
      "Iter 10/100 - Loss: 14.365   noise: 0.340\n",
      "Iter 11/100 - Loss: 14.331   noise: 0.311\n",
      "Iter 12/100 - Loss: 14.296   noise: 0.285\n",
      "Iter 13/100 - Loss: 14.262   noise: 0.261\n",
      "Iter 14/100 - Loss: 14.227   noise: 0.239\n",
      "Iter 15/100 - Loss: 14.192   noise: 0.218\n",
      "Iter 16/100 - Loss: 14.157   noise: 0.199\n",
      "Iter 17/100 - Loss: 14.122   noise: 0.181\n",
      "Iter 18/100 - Loss: 14.088   noise: 0.165\n",
      "Iter 19/100 - Loss: 14.054   noise: 0.151\n",
      "Iter 20/100 - Loss: 14.021   noise: 0.137\n",
      "Iter 21/100 - Loss: 13.990   noise: 0.125\n",
      "Iter 22/100 - Loss: 13.960   noise: 0.114\n",
      "Iter 23/100 - Loss: 13.932   noise: 0.104\n",
      "Iter 24/100 - Loss: 13.906   noise: 0.095\n",
      "Iter 25/100 - Loss: 13.883   noise: 0.086\n",
      "Iter 26/100 - Loss: 13.862   noise: 0.079\n",
      "Iter 27/100 - Loss: 13.843   noise: 0.072\n",
      "Iter 28/100 - Loss: 13.826   noise: 0.066\n",
      "Iter 29/100 - Loss: 13.812   noise: 0.061\n",
      "Iter 30/100 - Loss: 13.800   noise: 0.056\n",
      "Iter 31/100 - Loss: 13.790   noise: 0.052\n",
      "Iter 32/100 - Loss: 13.783   noise: 0.048\n",
      "Iter 33/100 - Loss: 13.779   noise: 0.045\n",
      "Iter 34/100 - Loss: 13.776   noise: 0.042\n",
      "Iter 35/100 - Loss: 13.775   noise: 0.039\n",
      "Iter 36/100 - Loss: 13.776   noise: 0.037\n",
      "Iter 37/100 - Loss: 13.778   noise: 0.035\n",
      "Iter 38/100 - Loss: 13.781   noise: 0.034\n",
      "Iter 39/100 - Loss: 13.784   noise: 0.033\n",
      "Iter 40/100 - Loss: 13.787   noise: 0.032\n",
      "Iter 41/100 - Loss: 13.789   noise: 0.031\n",
      "Iter 42/100 - Loss: 13.791   noise: 0.031\n",
      "Iter 43/100 - Loss: 13.792   noise: 0.031\n",
      "Iter 44/100 - Loss: 13.792   noise: 0.031\n",
      "Iter 45/100 - Loss: 13.791   noise: 0.031\n",
      "Iter 46/100 - Loss: 13.789   noise: 0.031\n",
      "Iter 47/100 - Loss: 13.787   noise: 0.031\n",
      "Iter 48/100 - Loss: 13.785   noise: 0.032\n",
      "Iter 49/100 - Loss: 13.782   noise: 0.033\n",
      "Iter 50/100 - Loss: 13.779   noise: 0.033\n",
      "Iter 51/100 - Loss: 13.777   noise: 0.034\n",
      "Iter 52/100 - Loss: 13.774   noise: 0.035\n",
      "Iter 53/100 - Loss: 13.773   noise: 0.036\n",
      "Iter 54/100 - Loss: 13.771   noise: 0.037\n",
      "Iter 55/100 - Loss: 13.770   noise: 0.038\n",
      "Iter 56/100 - Loss: 13.769   noise: 0.039\n",
      "Iter 57/100 - Loss: 13.768   noise: 0.040\n",
      "Iter 58/100 - Loss: 13.768   noise: 0.041\n",
      "Iter 59/100 - Loss: 13.768   noise: 0.042\n",
      "Iter 60/100 - Loss: 13.768   noise: 0.042\n",
      "Iter 61/100 - Loss: 13.768   noise: 0.043\n",
      "Iter 62/100 - Loss: 13.768   noise: 0.043\n",
      "Iter 63/100 - Loss: 13.768   noise: 0.044\n",
      "Iter 64/100 - Loss: 13.768   noise: 0.044\n",
      "Iter 65/100 - Loss: 13.768   noise: 0.044\n",
      "Iter 66/100 - Loss: 13.768   noise: 0.044\n",
      "Iter 67/100 - Loss: 13.768   noise: 0.044\n",
      "Iter 68/100 - Loss: 13.768   noise: 0.044\n",
      "Iter 69/100 - Loss: 13.768   noise: 0.044\n",
      "Iter 70/100 - Loss: 13.767   noise: 0.044\n",
      "Iter 71/100 - Loss: 13.767   noise: 0.044\n",
      "Iter 72/100 - Loss: 13.767   noise: 0.044\n",
      "Iter 73/100 - Loss: 13.766   noise: 0.043\n",
      "Iter 74/100 - Loss: 13.766   noise: 0.043\n",
      "Iter 75/100 - Loss: 13.766   noise: 0.042\n",
      "Iter 76/100 - Loss: 13.765   noise: 0.042\n",
      "Iter 77/100 - Loss: 13.765   noise: 0.042\n",
      "Iter 78/100 - Loss: 13.765   noise: 0.041\n",
      "Iter 79/100 - Loss: 13.765   noise: 0.041\n",
      "Iter 80/100 - Loss: 13.765   noise: 0.041\n",
      "Iter 81/100 - Loss: 13.765   noise: 0.040\n",
      "Iter 82/100 - Loss: 13.765   noise: 0.040\n",
      "Iter 83/100 - Loss: 13.765   noise: 0.040\n",
      "Iter 84/100 - Loss: 13.765   noise: 0.040\n",
      "Iter 85/100 - Loss: 13.765   noise: 0.040\n",
      "Iter 86/100 - Loss: 13.765   noise: 0.040\n",
      "Iter 87/100 - Loss: 13.765   noise: 0.040\n",
      "Iter 88/100 - Loss: 13.765   noise: 0.039\n",
      "Iter 89/100 - Loss: 13.765   noise: 0.039\n",
      "Iter 90/100 - Loss: 13.765   noise: 0.040\n",
      "Iter 91/100 - Loss: 13.765   noise: 0.040\n",
      "Iter 92/100 - Loss: 13.765   noise: 0.040\n",
      "Iter 93/100 - Loss: 13.765   noise: 0.040\n",
      "Iter 94/100 - Loss: 13.765   noise: 0.040\n",
      "Iter 95/100 - Loss: 13.764   noise: 0.040\n",
      "Iter 96/100 - Loss: 13.764   noise: 0.040\n",
      "Iter 97/100 - Loss: 13.764   noise: 0.040\n",
      "Iter 98/100 - Loss: 13.764   noise: 0.040\n",
      "Iter 99/100 - Loss: 13.764   noise: 0.041\n",
      "Iter 100/100 - Loss: 13.764   noise: 0.041\n"
     ]
    }
   ],
   "source": [
    "# this is for running the notebook in our testing framework\n",
    "import os\n",
    "smoke_test = ('CI' in os.environ)\n",
    "training_iter = 2 if smoke_test else 100\n",
    "\n",
    "\n",
    "# Find optimal model hyperparameters\n",
    "model.train()\n",
    "likelihood.train()\n",
    "\n",
    "# Use the adam optimizer\n",
    "optimizer = torch.optim.Adam([\n",
    "    {'params': model.parameters()},  # Includes GaussianLikelihood parameters\n",
    "], lr=0.1)\n",
    "\n",
    "# \"Loss\" for GPs - the marginal log likelihood\n",
    "mll = gpytorch.mlls.ExactMarginalLogLikelihood(likelihood, model)\n",
    "\n",
    "for i in range(training_iter):\n",
    "    # Zero gradients from previous iteration\n",
    "    optimizer.zero_grad()\n",
    "    # Output from model\n",
    "    output = model(train_x)\n",
    "    # Calc loss and backprop gradients\n",
    "    loss = -mll(output, train_y)+0.5*number*np.log(train_x.size(0))\n",
    "    loss.backward()\n",
    "    print('Iter %d/%d - Loss: %.3f   noise: %.3f' % (\n",
    "        i + 1, training_iter, loss.item(),\n",
    "        model.likelihood.noise.item()\n",
    "    ))\n",
    "    optimizer.step()"
   ]
  },
  {
   "cell_type": "code",
   "execution_count": 5,
   "metadata": {},
   "outputs": [],
   "source": [
    "# Get into evaluation (predictive posterior) mode\n",
    "model.eval()\n",
    "likelihood.eval()\n",
    "\n",
    "# Test points are regularly spaced along [0,1]\n",
    "# Make predictions by feeding model through likelihood\n",
    "#with torch.no_grad(), gpytorch.settings.fast_pred_var():\n",
    "with torch.no_grad():\n",
    "    test_x = torch.linspace(0, 1, 51)\n",
    "    observed_pred = likelihood(model(test_x))"
   ]
  },
  {
   "cell_type": "code",
   "execution_count": 7,
   "metadata": {},
   "outputs": [
    {
     "data": {
      "image/png": "[encoded data removed]",
      "text/plain": [
       "<Figure size 576x432 with 1 Axes>"
      ]
     },
     "metadata": {
      "needs_background": "light"
     },
     "output_type": "display_data"
    }
   ],
   "source": [
    "with torch.no_grad():\n",
    "    # Initialize plot\n",
    "    f, ax = plt.subplots(1, 1, figsize=(8, 6))\n",
    "\n",
    "    # Get upper and lower confidence bounds\n",
    "    lower, upper = observed_pred.confidence_region()\n",
    "    # Plot training data as black stars\n",
    "    ax.plot(train_x.numpy(), train_y.numpy(), 'k*')\n",
    "    # Plot predictive means as blue line\n",
    "    ax.plot(test_x.numpy(), observed_pred.mean.numpy(), 'b')\n",
    "    # Shade between the lower and upper confidence bounds\n",
    "    ax.fill_between(test_x.numpy(), lower.numpy(), upper.numpy(), alpha=0.5)\n",
    "    ax.set_ylim([-3, 3])\n",
    "    ax.legend(['Observed Data', 'Mean', 'Confidence'])"
   ]
  },
  {
   "cell_type": "code",
   "execution_count": null,
   "metadata": {},
   "outputs": [],
   "source": []
  },
  {
   "cell_type": "code",
   "execution_count": null,
   "metadata": {},
   "outputs": [],
   "source": []
  },
  {
   "cell_type": "code",
   "execution_count": null,
   "metadata": {},
   "outputs": [],
   "source": []
  },
  {
   "cell_type": "code",
   "execution_count": null,
   "metadata": {},
   "outputs": [],
   "source": []
  },
  {
   "cell_type": "code",
   "execution_count": null,
   "metadata": {},
   "outputs": [],
   "source": []
  },
  {
   "cell_type": "code",
   "execution_count": null,
   "metadata": {},
   "outputs": [],
   "source": []
  },
  {
   "cell_type": "code",
   "execution_count": null,
   "metadata": {},
   "outputs": [],
   "source": []
  },
  {
   "cell_type": "code",
   "execution_count": null,
   "metadata": {},
   "outputs": [],
   "source": []
  },
  {
   "cell_type": "code",
   "execution_count": null,
   "metadata": {},
   "outputs": [],
   "source": []
  },
  {
   "cell_type": "code",
   "execution_count": null,
   "metadata": {},
   "outputs": [],
   "source": []
  },
  {
   "cell_type": "code",
   "execution_count": null,
   "metadata": {},
   "outputs": [],
   "source": []
  },
  {
   "cell_type": "code",
   "execution_count": null,
   "metadata": {},
   "outputs": [],
   "source": []
  },
  {
   "cell_type": "code",
   "execution_count": null,
   "metadata": {},
   "outputs": [],
   "source": []
  },
  {
   "cell_type": "code",
   "execution_count": null,
   "metadata": {},
   "outputs": [],
   "source": []
  },
  {
   "cell_type": "code",
   "execution_count": null,
   "metadata": {},
   "outputs": [],
   "source": []
  },
  {
   "cell_type": "code",
   "execution_count": null,
   "metadata": {},
   "outputs": [],
   "source": []
  },
  {
   "cell_type": "code",
   "execution_count": null,
   "metadata": {},
   "outputs": [],
   "source": []
  },
  {
   "cell_type": "code",
   "execution_count": null,
   "metadata": {},
   "outputs": [],
   "source": []
  },
  {
   "cell_type": "code",
   "execution_count": null,
   "metadata": {},
   "outputs": [],
   "source": []
  },
  {
   "cell_type": "code",
   "execution_count": null,
   "metadata": {},
   "outputs": [],
   "source": []
  },
  {
   "cell_type": "code",
   "execution_count": null,
   "metadata": {},
   "outputs": [],
   "source": []
  },
  {
   "cell_type": "code",
   "execution_count": null,
   "metadata": {},
   "outputs": [],
   "source": []
  },
  {
   "cell_type": "code",
   "execution_count": null,
   "metadata": {},
   "outputs": [],
   "source": []
  },
  {
   "cell_type": "code",
   "execution_count": null,
   "metadata": {},
   "outputs": [],
   "source": []
  },
  {
   "cell_type": "code",
   "execution_count": null,
   "metadata": {},
   "outputs": [],
   "source": []
  },
  {
   "cell_type": "code",
   "execution_count": null,
   "metadata": {},
   "outputs": [],
   "source": []
  },
  {
   "cell_type": "code",
   "execution_count": null,
   "metadata": {},
   "outputs": [],
   "source": []
  },
  {
   "cell_type": "code",
   "execution_count": null,
   "metadata": {},
   "outputs": [],
   "source": []
  },
  {
   "cell_type": "code",
   "execution_count": null,
   "metadata": {},
   "outputs": [],
   "source": []
  },
  {
   "cell_type": "code",
   "execution_count": null,
   "metadata": {},
   "outputs": [],
   "source": []
  },
  {
   "cell_type": "code",
   "execution_count": null,
   "metadata": {},
   "outputs": [],
   "source": []
  },
  {
   "cell_type": "code",
   "execution_count": null,
   "metadata": {},
   "outputs": [],
   "source": []
  },
  {
   "cell_type": "code",
   "execution_count": null,
   "metadata": {},
   "outputs": [],
   "source": []
  },
  {
   "cell_type": "code",
   "execution_count": null,
   "metadata": {},
   "outputs": [],
   "source": []
  },
  {
   "cell_type": "code",
   "execution_count": null,
   "metadata": {},
   "outputs": [],
   "source": []
  },
  {
   "cell_type": "code",
   "execution_count": null,
   "metadata": {},
   "outputs": [],
   "source": []
  },
  {
   "cell_type": "code",
   "execution_count": null,
   "metadata": {},
   "outputs": [],
   "source": []
  },
  {
   "cell_type": "code",
   "execution_count": null,
   "metadata": {},
   "outputs": [],
   "source": []
  },
  {
   "cell_type": "code",
   "execution_count": null,
   "metadata": {},
   "outputs": [],
   "source": []
  },
  {
   "cell_type": "code",
   "execution_count": null,
   "metadata": {},
   "outputs": [],
   "source": []
  },
  {
   "cell_type": "code",
   "execution_count": null,
   "metadata": {},
   "outputs": [],
   "source": []
  },
  {
   "cell_type": "code",
   "execution_count": null,
   "metadata": {},
   "outputs": [],
   "source": []
  },
  {
   "cell_type": "code",
   "execution_count": null,
   "metadata": {},
   "outputs": [],
   "source": []
  },
  {
   "cell_type": "code",
   "execution_count": null,
   "metadata": {},
   "outputs": [],
   "source": []
  },
  {
   "cell_type": "code",
   "execution_count": null,
   "metadata": {},
   "outputs": [],
   "source": []
  },
  {
   "cell_type": "code",
   "execution_count": null,
   "metadata": {},
   "outputs": [],
   "source": []
  },
  {
   "cell_type": "code",
   "execution_count": null,
   "metadata": {},
   "outputs": [],
   "source": []
  },
  {
   "cell_type": "code",
   "execution_count": null,
   "metadata": {},
   "outputs": [],
   "source": []
  },
  {
   "cell_type": "code",
   "execution_count": null,
   "metadata": {},
   "outputs": [],
   "source": []
  },
  {
   "cell_type": "code",
   "execution_count": null,
   "metadata": {},
   "outputs": [],
   "source": []
  },
  {
   "cell_type": "code",
   "execution_count": null,
   "metadata": {},
   "outputs": [],
   "source": []
  },
  {
   "cell_type": "code",
   "execution_count": null,
   "metadata": {},
   "outputs": [],
   "source": []
  },
  {
   "cell_type": "code",
   "execution_count": null,
   "metadata": {},
   "outputs": [],
   "source": []
  }
 ],
 "metadata": {
  "kernelspec": {
   "display_name": "Python 3",
   "language": "python",
   "name": "python3"
  },
  "language_info": {
   "codemirror_mode": {
    "name": "ipython",
    "version": 3
   },
   "file_extension": ".py",
   "mimetype": "text/x-python",
   "name": "python",
   "nbconvert_exporter": "python",
   "pygments_lexer": "ipython3",
   "version": "3.6.9"
  },
  "latex_envs": {
   "LaTeX_envs_menu_present": true,
   "autoclose": false,
   "autocomplete": true,
   "bibliofile": "biblio.bib",
   "cite_by": "apalike",
   "current_citInitial": 1,
   "eqLabelWithNumbers": true,
   "eqNumInitial": 1,
   "hotkeys": {
    "equation": "Ctrl-E",
    "itemize": "Ctrl-I"
   },
   "labels_anchors": false,
   "latex_user_defs": false,
   "report_style_numbering": false,
   "user_envs_cfg": false
  }
 },
 "nbformat": 4,
 "nbformat_minor": 2
}
